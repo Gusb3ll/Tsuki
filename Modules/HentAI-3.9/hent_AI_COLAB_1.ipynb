{
  "nbformat": 4,
  "nbformat_minor": 0,
  "metadata": {
    "colab": {
      "name": "hent_AI_COLAB_1.ipynb",
      "provenance": [],
      "collapsed_sections": [],
      "toc_visible": true
    },
    "kernelspec": {
      "name": "python3",
      "display_name": "Python 3"
    },
    "accelerator": "GPU"
  },
  "cells": [
    {
      "cell_type": "markdown",
      "metadata": {
        "id": "AJPfSOKPTvEa",
        "colab_type": "text"
      },
      "source": [
        "# Welcome to hent-AI colab!\n",
        "\n",
        "This colab can utilize Googles vast resources for super fast decensoring using this project. All you need is a Google Drive and a good amount of free space on it.\n",
        "\n",
        "hent-AI git project page: https://github.com/natethegreate/hentAI\n",
        "\n",
        "# Prereqs\n",
        "In your Google Drive, make a folder called hent-AI. Inside that folder, make a folder called videos. \n",
        "\n",
        "Don't worry about getting the weights or models. This repo will auto download them to this Google Drive folder for you, so make sure your drive isn't full.\n",
        "\n",
        "# Tutorial:\n",
        "Now, you can start running this notebook. \n",
        "\n",
        "* Under the runtime option above, hit '**Change runtime type**' and make sure Hardware Accelerator is set to **GPU**.\n",
        "\n",
        "* Then, start running the code cells below by hitting the play buttons on their top left. (Or hit Runtime->Run all). They each have comments and instructions if needed.\n",
        "\n",
        "* *Some of the cells will require input, as a y/n box. Make sure to do those or else nothing will continue.*\n",
        "\n",
        "* When you mount the google drive and have to authorize it, be sure to select your google account that you wish to place the models and videos on.\n",
        "\n",
        "* When decensoring finished, the output video will be called `(video name)_decensored.avi` \n",
        "\n",
        "* The filesystem is the window looking button on the left. Click on it, and you'll see the local hent-AI folder dropdown, and the drive folder above it. \n",
        "\n",
        "* Expand the hent-AI folder, then the expand drive / My Drive folders\n",
        "\n",
        "* Simply drag the decensored video avi from the hent-AI folder to the drive/My Drive folder. This will transfer the decensored video from this instance to your actual Google Drive, and is the fastest way to get the video. \n",
        "\n",
        "* Or, you can right-click the video and download from here, but it will be much slower.\n",
        "\n",
        "* Images will save into your drive in the /decensor_input and /decensor_input_original folders, for use with DeepCreamPy.\n",
        "\n",
        "# Notes\n",
        "Colab **automatically disconnects** if you dont do anything for 30 minutes, and sessions last **at most** 12 hours. Whenever you launch a new instance, You will have to run all these steps again. But, everything on your Google drive  can stay and it does not have to be repeated. \n",
        "\n",
        "So, its best if you have all the clips you want to decensor ready so you can run them all at once.\n",
        "\n",
        "Also, there are some memory-related issues that happen with high-resolution and longer videos. 480 to 720p is reccommended for videos."
      ]
    },
    {
      "cell_type": "code",
      "metadata": {
        "id": "jZRvYf7xS1ER",
        "colab_type": "code",
        "colab": {}
      },
      "source": [
        "!nvidia-smi #First check what GPU have. Tesla T4 will not work. P100 and K80s are confirmed working."
      ],
      "execution_count": null,
      "outputs": []
    },
    {
      "cell_type": "code",
      "metadata": {
        "id": "XHWQ0UBKS4n7",
        "colab_type": "code",
        "colab": {}
      },
      "source": [
        "# Install conda and python 3.5.2 \n",
        "!pip3 install conda\n",
        "!wget https://repo.anaconda.com/archive/Anaconda3-5.2.0-Linux-x86_64.sh && bash Anaconda3-5.2.0-Linux-x86_64.sh -bfp /usr/local"
      ],
      "execution_count": null,
      "outputs": []
    },
    {
      "cell_type": "code",
      "metadata": {
        "id": "G2Y8mbOITAvo",
        "colab_type": "code",
        "colab": {}
      },
      "source": [
        "# You will need to confirm the yes/no prompt when installing python 3.5.2\n",
        "!conda list python\n",
        "!conda install python=3.5.2"
      ],
      "execution_count": null,
      "outputs": []
    },
    {
      "cell_type": "code",
      "metadata": {
        "id": "k0w19wiOTIQ9",
        "colab_type": "code",
        "colab": {}
      },
      "source": [
        "# Get to cuda 9\n",
        "!wget https://developer.nvidia.com/compute/cuda/9.0/Prod/local_installers/cuda-repo-ubuntu1604-9-0-local_9.0.176-1_amd64-deb\n",
        "!dpkg -i cuda-repo-ubuntu1604-9-0-local_9.0.176-1_amd64-deb\n",
        "!apt-key add /var/cuda-repo-9-0-local/7fa2af80.pub\n",
        "!apt-get update\n",
        "!apt-get install cuda=9.0.176-1"
      ],
      "execution_count": null,
      "outputs": []
    },
    {
      "cell_type": "code",
      "metadata": {
        "id": "F8FMJ2XqTM0y",
        "colab_type": "code",
        "colab": {}
      },
      "source": [
        "# Get hent-AI repo\n",
        "%cd /content/\n",
        "!git clone https://github.com/natethegreate/hent-AI.git"
      ],
      "execution_count": null,
      "outputs": []
    },
    {
      "cell_type": "code",
      "metadata": {
        "id": "5zExTS0JTTsJ",
        "colab_type": "code",
        "colab": {}
      },
      "source": [
        "%cd hent-AI/\n",
        "!git checkout master"
      ],
      "execution_count": null,
      "outputs": []
    },
    {
      "cell_type": "code",
      "metadata": {
        "id": "AxlSZOPs3CF2",
        "colab_type": "code",
        "colab": {}
      },
      "source": [
        "# Get ffmpeg just in case\n",
        "!pip install ffmpeg-python\n",
        "!add-apt-repository ppa:jon-severinsson/ffmpeg\n",
        "!apt-get update\n",
        "!apt-get install ffmpeg"
      ],
      "execution_count": null,
      "outputs": []
    },
    {
      "cell_type": "code",
      "metadata": {
        "id": "HpUVONY0TU_t",
        "colab_type": "code",
        "colab": {}
      },
      "source": [
        "# Mount Google Drive. Follow authentication below\n",
        "from google.colab import drive\n",
        "drive.mount('/content/drive', force_remount=True)"
      ],
      "execution_count": null,
      "outputs": []
    },
    {
      "cell_type": "code",
      "metadata": {
        "id": "GiNm4Kw3TmTf",
        "colab_type": "code",
        "colab": {}
      },
      "source": [
        "# Create directories, you'll only need to do this if you dont already have them in your drive\n",
        "!mkdir /content/drive/My\\ Drive/hent-AI/\n",
        "!mkdir /content/drive/My\\ Drive/hent-AI/videos\n",
        "!mkdir /content/drive/My\\ Drive/hent-AI/images\n",
        "!mkdir /content/drive/My\\ Drive/hent-AI/images/decensor_input\n",
        "!mkdir /content/drive/My\\ Drive/hent-AI/images/decensor_input_original"
      ],
      "execution_count": null,
      "outputs": []
    },
    {
      "cell_type": "code",
      "metadata": {
        "id": "gWg2-tsnDNV2",
        "colab_type": "code",
        "colab": {}
      },
      "source": [
        "# Get models, if you dont already have them.\n",
        "%cd \"/content/drive/My Drive/\"\n",
        "!wget --no-check-certificate \"https://de-next.owncube.com/index.php/s/mDGmi7NgdyyQRXL/download?path=%2F&files=4x_FatalPixels_340000_G.pth&downloadStartSecret=r4q3aw60ijm\" -O hent-AI/4x_FatalPixels_340000_G.pth\n",
        "!wget --no-check-certificate \"https://www.dropbox.com/s/zvf6vbx3hnm9r31/weights268.zip?dl=0\" -O hent-AI/weights.zip"
      ],
      "execution_count": null,
      "outputs": []
    },
    {
      "cell_type": "code",
      "metadata": {
        "id": "Kb2_SOflUF0f",
        "colab_type": "code",
        "colab": {}
      },
      "source": [
        "# Get requirements. This will take some time and lots of disk space. MAKE SURE TO PRESS THE \"RESTART RUNTIME\" BUTTON AT THE BOTTOM OF THE OUTPUT HERE\n",
        "%cd /content/hent-AI/\n",
        "!pip install --upgrade pip\n",
        "!pip install -r requirements-gpu.txt"
      ],
      "execution_count": null,
      "outputs": []
    },
    {
      "cell_type": "code",
      "metadata": {
        "id": "xTQ0tIzxUIQ8",
        "colab_type": "code",
        "colab": {}
      },
      "source": [
        "%cd /content/hent-AI/\n",
        "!git checkout master"
      ],
      "execution_count": null,
      "outputs": []
    },
    {
      "cell_type": "code",
      "metadata": {
        "id": "vWyKzajTUPTN",
        "colab_type": "code",
        "colab": {}
      },
      "source": [
        "# Install mask rcnn\n",
        "!python setup.py install"
      ],
      "execution_count": null,
      "outputs": []
    },
    {
      "cell_type": "code",
      "metadata": {
        "id": "AzCLbJSKdx2e",
        "colab_type": "code",
        "colab": {}
      },
      "source": [
        "# Create folders if they are not already made. Ignore errors if they show up here.\n",
        "!mkdir ESR_temp/\n",
        "!mkdir ESR_temp/temp/\n",
        "!mkdir ESR_temp/ESR_out/\n",
        "!mkdir ESR_temp/temp2/"
      ],
      "execution_count": null,
      "outputs": []
    },
    {
      "cell_type": "code",
      "metadata": {
        "id": "jqXdGKwYUQhm",
        "colab_type": "code",
        "colab": {}
      },
      "source": [
        "# Extract both the hent-AI weights and the ESRGAN weights\n",
        "!unzip /content/drive/My\\ Drive/hent-AI/weights.zip\n",
        "# !7z x /content/drive/My\\ Drive/hent-AI/4x_FatalPixels_340000_G.7z\n",
        "!cp /content/drive/My\\ Drive/hent-AI/4x_FatalPixels_340000_G.pth . # Auto downloader will download .pth, so no need to extract it"
      ],
      "execution_count": null,
      "outputs": []
    },
    {
      "cell_type": "code",
      "metadata": {
        "id": "dDcNhEI5ZL8R",
        "colab_type": "code",
        "colab": {}
      },
      "source": [
        "!ls # Verify models are inside this hent-AI folder"
      ],
      "execution_count": null,
      "outputs": []
    },
    {
      "cell_type": "code",
      "metadata": {
        "id": "GYWKXoRkVgna",
        "colab_type": "code",
        "colab": {}
      },
      "source": [
        "# Ignore this cell \n",
        "# Remove tensorflow normal to operate on GPU only? NOTE: You will need to authorize both uninstalls. MAKE SURE TO PRESS THE \"RESTART RUNTIME\" BUTTON AT THE BOTTOM OF THE OUTPUT HERE\n",
        "# !pip uninstall tensorflow \n",
        "# !pip uninstall protobuf\n",
        "# !pip install tensorflow==1.8.0\n",
        "# !pip install --force-reinstall tensorflow-gpu==1.9.0 "
      ],
      "execution_count": null,
      "outputs": []
    },
    {
      "cell_type": "code",
      "metadata": {
        "id": "ibV9Nbp-V_GA",
        "colab_type": "code",
        "colab": {}
      },
      "source": [
        "# Runtime may be restarted. Ignore any errors here\n",
        "%cd hent-AI/\n",
        "!git checkout master"
      ],
      "execution_count": null,
      "outputs": []
    },
    {
      "cell_type": "code",
      "metadata": {
        "id": "nJIO0YaphQ6A",
        "colab_type": "code",
        "colab": {}
      },
      "source": [
        "!git pull #ignore me"
      ],
      "execution_count": null,
      "outputs": []
    },
    {
      "cell_type": "code",
      "metadata": {
        "id": "TgE4GkjwWEIp",
        "colab_type": "code",
        "colab": {}
      },
      "source": [
        "# Make sure videos are in the videos folder inside hent-AI. You may need to confirm y/n if a video will be overwritten.\n",
        "# !python samples/hentai/hentai.py inference --weights=weights.h5 --sources=/content/drive/My\\ Drive/hent-AI/videos/ --dtype=esrgan\n",
        "\n",
        "# Use this if you want to detect bars on images for use with DCP. Make sure to comment-out all other lines.\n",
        "# !python samples/hentai/hentai.py inference --weights=weights.h5 --sources=/content/drive/My\\ Drive/hent-AI/images/ --dtype=bar --dcpdir=/content/drive/My\\ Drive/hent-AI/images/\n",
        "\n",
        "# Use this if you want to detect mosaics on images for use with DCP. Make sure to comment-out all other lines.\n",
        "!python samples/hentai/hentai.py inference --weights=weights.h5 --sources=/content/drive/My\\ Drive/hent-AI/images/ --dtype=mosaic --dcpdir=/content/drive/My\\ Drive/hent-AI/images/"
      ],
      "execution_count": null,
      "outputs": []
    },
    {
      "cell_type": "markdown",
      "metadata": {
        "id": "xRkRAQBsdmNW",
        "colab_type": "text"
      },
      "source": [
        "Now, use the filesystem on the left to manually drag decensored videos back into your drive folder. Then they will show up in your Google drive. \n"
      ]
    }
  ]
}