{
  "cells": [
    {
      "cell_type": "markdown",
      "metadata": {
        "id": "Z9HFiGhEVDFA"
      },
      "source": [
        "![Tsuki](https://user-images.githubusercontent.com/77166960/154808873-1bdd3aab-1aa4-4fcd-a3e6-17dfcde3b720.png)\n",
        "\n",
        "# Tsuki-colab by Gusbell\n",
        "\n",
        "## Implement of my decensoring scripts on google colab\n",
        "\n",
        "#### https://github.com/Gusb3ll/tsuki\n",
        "\n",
        "#### Do not use any hardware accelerator as it will broke the HentAI"
      ]
    },
    {
      "cell_type": "markdown",
      "metadata": {
        "id": "JQyR3pewVeWS"
      },
      "source": [
        "## Install python 3.9 & clone the repoistory then install the requirements"
      ]
    },
    {
      "cell_type": "code",
      "execution_count": 1,
      "metadata": {
        "id": "DaGjmAUbQ5kr"
      },
      "outputs": [],
      "source": [
        "%%capture\n",
        "\n",
        "!sudo apt-get update -y\n",
        "!sudo apt-get install python3.9\n",
        "!sudo update-alternatives --install /usr/bin/python3 python3 /usr/bin/python3.9 2\n",
        "\n",
        "!sudo apt-get install python3-pip\n",
        "!sudo apt install python3.9-distutils\n",
        "\n",
        "!python3.9 -m pip install --upgrade pip\n",
        "!python3.9 -m pip install --upgrade distlib\n",
        "!python3.9 -m pip install --upgrade setuptools\n",
        "\n",
        "!git clone https://github.com/Gusb3ll/tsuki --branch google-colab\n",
        "\n",
        "%cd tsuki\n",
        "\n",
        "!rm init.bat\n",
        "!rm run-blackwhite.bat\n",
        "!rm run-color.bat\n",
        "!rm README.md\n",
        "!rm LICENSE\n",
        "\n",
        "%cd Modules\n",
        "\n",
        "!pip install -r requirements.txt"
      ]
    },
    {
      "cell_type": "markdown",
      "metadata": {
        "id": "osrxoREQVtfr"
      },
      "source": [
        "## Make the required folders"
      ]
    },
    {
      "cell_type": "code",
      "execution_count": 2,
      "metadata": {
        "id": "W2LYaBIxTXC5"
      },
      "outputs": [],
      "source": [
        "%%capture\n",
        "\n",
        "%cd ..\n",
        "\n",
        "%cd Modules\n",
        "\n",
        "%cd Convert\n",
        "!mkdir input\n",
        "!mkdir output\n",
        "!echo \"dummy\" > input/dummy.txt\n",
        "!echo \"dummy\" > output/dummy.txt\n",
        "!rm input/dummy.txt\n",
        "!rm output/dummy.txt\n",
        "\n",
        "%cd ..\n",
        "\n",
        "%cd DeepCreamPy\n",
        "!mkdir decensor_input\n",
        "!mkdir decensor_output\n",
        "!echo \"dummy\" > decensor_input/dummy.txt\n",
        "!echo \"dummy\" > decensor_output/dummy.txt\n",
        "!rm decensor_input/dummy.txt\n",
        "!rm decensor_output/dummy.txt\n",
        "\n",
        "%cd ..\n",
        "%cd HentAI\n",
        "!mkdir input\n",
        "!mkdir output\n",
        "!echo \"dummy\" > input/dummy.txt\n",
        "!echo \"dummy\" > output/dummy.txt\n",
        "!rm input/dummy.txt\n",
        "!rm output/dummy.txt\n",
        "\n",
        "%cd ..\n",
        "\n",
        "%cd ToneRemover\n",
        "!mkdir input\n",
        "!mkdir output\n",
        "!echo \"dummy\" > input/dummy.txt\n",
        "!echo \"dummy\" > output/dummy.txt\n",
        "!rm input/dummy.txt\n",
        "!rm output/dummy.txt\n",
        "\n",
        "%cd ..\n",
        "%cd .."
      ]
    },
    {
      "cell_type": "markdown",
      "metadata": {
        "id": "N-0QawuPVwMg"
      },
      "source": [
        "## Mount the nessary folder to the google drive folder"
      ]
    },
    {
      "cell_type": "code",
      "execution_count": null,
      "metadata": {
        "colab": {
          "base_uri": "https://localhost:8080/"
        },
        "id": "Ai2scjcc5QvL",
        "outputId": "8bc044e7-ba1f-4407-a858-c618fe138aac"
      },
      "outputs": [],
      "source": [
        "from google.colab import drive\n",
        "\n",
        "drive.mount('/content/drive', force_remount=True)\n",
        "!mkdir \"/content/drive/My Drive/Tsuki/INPUT\"\n",
        "!mkdir \"/content/drive/My Drive/Tsuki/OUTPUT\"\n",
        "!mkdir \"/content/drive/My Drive/Tsuki/models\""
      ]
    },
    {
      "cell_type": "markdown",
      "metadata": {
        "id": "NIxsgP4b510s"
      },
      "source": [
        "## You need to put the model files inside 'Colab Notebooks/Tsuki/models' folder in your google drive\n",
        "\n",
        "#### File needed\n",
        "- models.zip\n",
        "- 4x_FatalPixels_340000_G.pth\n",
        "- Weights.h5\n",
        "- RRDB_PSNR_x4.pth\n",
        "\n",
        "#### ** DO NO RENAME THESE FILES **"
      ]
    },
    {
      "cell_type": "markdown",
      "metadata": {
        "id": "FLKI4OL3WQS7"
      },
      "source": [
        "## Run this after you have done the previous step"
      ]
    },
    {
      "cell_type": "code",
      "execution_count": 4,
      "metadata": {
        "id": "XpNA_pwQVBD8"
      },
      "outputs": [],
      "source": [
        "%%capture\n",
        "\n",
        "!unzip \"/content/drive/My Drive/Tsuki/models/models.zip\" -d \"/content/tsuki/Modules/DeepCreamPy/models\"\n",
        "!cp \"/content/drive/MyDrive/Tsuki/models/weights.h5\" \"/content/tsuki/Modules/HentAI\"\n",
        "!cp \"/content/drive/MyDrive/Tsuki/models/4x_FatalPixels_340000_G.pth\" \"/content/tsuki/Modules/HentAI\"\n",
        "!cp \"/content/drive/MyDrive/Tsuki/models/RRDB_PSNR_x4.pth\" \"/content/tsuki/Modules/HentAI/ColabESRGAN/models\""
      ]
    },
    {
      "cell_type": "markdown",
      "metadata": {
        "id": "acMQtm_w-Tfq"
      },
      "source": [
        "### Now put the picture you want to uncensored in 'Tsuki/INPUT' folder at your google drive then you can run the next cell\n"
      ]
    },
    {
      "cell_type": "code",
      "execution_count": null,
      "metadata": {
        "colab": {
          "base_uri": "https://localhost:8080/"
        },
        "id": "6ThwuOmo9uvU",
        "outputId": "f51ca1ca-d56a-4eec-bba8-4a2d3ee01558"
      },
      "outputs": [],
      "source": [
        "%cp \"/content/drive/My Drive/Tsuki/INPUT\"/*.* \"/content/tsuki/Modules/Convert/input\"\n",
        "\n",
        "%cd Modules/Convert\n",
        "!python3.9 converter.py\n",
        "!rm input/*.*\n",
        "\n",
        "%cd ..\n",
        "!mv \"/content/tsuki/Modules/Convert/output\"/*.png \"/content/tsuki/Modules/HentAI/input\"\n",
        "\n",
        "%cd HentAI\n",
        "!python3.9 main.py\n",
        "!rm input/*.png\n",
        "\n",
        "%cd ..\n",
        "!mv \"/content/tsuki/Modules/HentAI/output\"/*.png \"/content/tsuki/Modules/DeepCreamPy/decensor_input\"\n",
        "\n",
        "%cd DeepCreamPy\n",
        "!python3.9 decensor.py\n",
        "!rm decensor_input/*.png\n",
        "\n",
        "%cd ..\n",
        "!mv \"/content/tsuki/Modules/DeepCreamPy/decensor_output\"/*.png \"/content/drive/MyDrive/Tsuki/OUTPUT\"\n",
        "\n",
        "%cd .."
      ]
    },
    {
      "cell_type": "markdown",
      "metadata": {
        "id": "MUbkELd5XPwH"
      },
      "source": [
        "## The decensored image will be put in 'Tsuki/OUTPUT' folder, if you want to decensor image again basiclly put the new image in the INPUT folder then run the above cell again"
      ]
    }
  ],
  "metadata": {
    "colab": {
      "collapsed_sections": [],
      "name": "Tsuki_colab.ipynb",
      "provenance": []
    },
    "kernelspec": {
      "display_name": "Python 3",
      "name": "python3"
    },
    "language_info": {
      "name": "python"
    }
  },
  "nbformat": 4,
  "nbformat_minor": 0
}
